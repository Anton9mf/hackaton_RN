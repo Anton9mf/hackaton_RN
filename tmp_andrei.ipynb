{
 "cells": [
  {
   "cell_type": "code",
   "execution_count": 2,
   "id": "f4f0bd34",
   "metadata": {},
   "outputs": [
    {
     "name": "stdout",
     "output_type": "stream",
     "text": [
      "Defaulting to user installation because normal site-packages is not writeable\n",
      "Requirement already satisfied: xgboost in /home/asirix/.local/lib/python3.8/site-packages (2.0.0)\n",
      "Requirement already satisfied: numpy in /home/asirix/.local/lib/python3.8/site-packages (from xgboost) (1.23.5)\n",
      "Requirement already satisfied: scipy in /home/asirix/.local/lib/python3.8/site-packages (from xgboost) (1.9.1)\n",
      "\u001b[33mDEPRECATION: distro-info 0.23ubuntu1 has a non-standard version number. pip 23.3 will enforce this behaviour change. A possible replacement is to upgrade to a newer version of distro-info or contact the author to suggest that they release a version with a conforming version number. Discussion can be found at https://github.com/pypa/pip/issues/12063\u001b[0m\u001b[33m\n",
      "\u001b[0m\u001b[33mDEPRECATION: gpg 1.13.1-unknown has a non-standard version number. pip 23.3 will enforce this behaviour change. A possible replacement is to upgrade to a newer version of gpg or contact the author to suggest that they release a version with a conforming version number. Discussion can be found at https://github.com/pypa/pip/issues/12063\u001b[0m\u001b[33m\n",
      "\u001b[0m\u001b[33mDEPRECATION: python-debian 0.1.36ubuntu1 has a non-standard version number. pip 23.3 will enforce this behaviour change. A possible replacement is to upgrade to a newer version of python-debian or contact the author to suggest that they release a version with a conforming version number. Discussion can be found at https://github.com/pypa/pip/issues/12063\u001b[0m\u001b[33m\n",
      "\u001b[0m"
     ]
    }
   ],
   "source": [
    "import pandas as pd\n",
    "import numpy as np \n",
    "import scipy as sc\n",
    "!pip install xgboost\n",
    "from xgboost import XGBRegressor\n",
    "from sklearn.ensemble import VotingRegressor\n",
    "from sklearn.model_selection import GridSearchCV\n",
    "from sklearn.preprocessing import StandardScaler\n",
    "from sklearn.pipeline import Pipeline\n",
    "import tqdm "
   ]
  },
  {
   "cell_type": "code",
   "execution_count": null,
   "id": "31c50077",
   "metadata": {},
   "outputs": [
    {
     "name": "stderr",
     "output_type": "stream",
     "text": [
      "\r",
      "  0%|                                                     | 0/5 [00:00<?, ?it/s]"
     ]
    },
    {
     "name": "stdout",
     "output_type": "stream",
     "text": [
      "                x        y        z         f1\n",
      "0        68239.21  24467.0  1.67671  13.532863\n",
      "1        68251.71  24467.0  1.67665  13.532866\n",
      "2        68264.21  24467.0  1.67664  13.519787\n",
      "3        68276.71  24467.0  1.67664  13.533922\n",
      "4        68289.21  24467.0  1.67669  13.534153\n",
      "...           ...      ...      ...        ...\n",
      "1196458  53239.21  46942.0  1.67625  16.414152\n",
      "1196459  53251.71  46942.0  1.67616  16.389223\n",
      "1196460  53264.21  46942.0  1.67590  15.482140\n",
      "1196461  53276.71  46942.0  1.67592  15.482140\n",
      "1196462  53289.21  46942.0  1.67587  15.512310\n",
      "\n",
      "[1196463 rows x 4 columns]\n",
      "[[1.67671]\n",
      " [1.67665]\n",
      " [1.67664]\n",
      " ...\n",
      " [1.6759 ]\n",
      " [1.67592]\n",
      " [1.67587]]\n",
      "                x        y         f1\n",
      "0        68239.21  24467.0  13.532863\n",
      "1        68251.71  24467.0  13.532866\n",
      "2        68264.21  24467.0  13.519787\n",
      "3        68276.71  24467.0  13.533922\n",
      "4        68289.21  24467.0  13.534153\n",
      "...           ...      ...        ...\n",
      "1196458  53239.21  46942.0  16.414152\n",
      "1196459  53251.71  46942.0  16.389223\n",
      "1196460  53264.21  46942.0  15.482140\n",
      "1196461  53276.71  46942.0  15.482140\n",
      "1196462  53289.21  46942.0  15.512310\n",
      "\n",
      "[1196463 rows x 3 columns]\n"
     ]
    }
   ],
   "source": [
    "data=pd.read_csv('/storage3/asirix/haka/F1.csv',sep=',')\n",
    "data=data.loc[:,['x','y','f1']]\n",
    "model={}\n",
    "for colum in tqdm.tqdm(['Map_5.txt', 'Map_4.txt', 'Map_3.txt', 'Map_2.txt', 'Map_1.txt']):\n",
    "    map_i=pd.read_csv('/storage3/asirix/haka/haka/Data/'+colum, sep=' ', header=None,names=['x','y','z'])\n",
    "    map_i=map_i.merge(data,on=['x','y'],how='inner')\n",
    "    xgb=XGBRegressor()\n",
    "    pipe=Pipeline([('scaler', StandardScaler()),('xgb',xgb)])\n",
    "    param_grid= {\n",
    "        'xgb__n_estimators':[100, 500, 1000],\n",
    "        'xgb__learning_rate':[1, 0.1, 0.01],\n",
    "        'xgb__max_depth':[3, 5, 10]\n",
    "    }\n",
    "    grid_search=GridSearchCV(estimator=pipe, param_grid=param_grid, cv=5)\n",
    "    print(map_i)\n",
    "    y_train=np.array(map_i['z'])\n",
    "    y_train=x_train.reshape(-1,1)\n",
    "    x_train=map_i.drop(columns='z',axis=0)\n",
    "    model[colum]=grid_search.fit(x_train,y_train)\n",
    "pickle._dump(model, open('/beegfs/data/hpcws/ws1/popov-GENA/haka/haka/Data/models.sav', 'wb'))\n",
    "\n"
   ]
  },
  {
   "cell_type": "code",
   "execution_count": null,
   "id": "0ae279a1",
   "metadata": {},
   "outputs": [],
   "source": []
  },
  {
   "cell_type": "code",
   "execution_count": null,
   "id": "7469c4de",
   "metadata": {},
   "outputs": [],
   "source": []
  }
 ],
 "metadata": {
  "kernelspec": {
   "display_name": "Python 3 (ipykernel)",
   "language": "python",
   "name": "python3"
  },
  "language_info": {
   "codemirror_mode": {
    "name": "ipython",
    "version": 3
   },
   "file_extension": ".py",
   "mimetype": "text/x-python",
   "name": "python",
   "nbconvert_exporter": "python",
   "pygments_lexer": "ipython3",
   "version": "3.8.10"
  }
 },
 "nbformat": 4,
 "nbformat_minor": 5
}
